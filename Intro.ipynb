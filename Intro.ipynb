{
 "cells": [
  {
   "cell_type": "markdown",
   "metadata": {},
   "source": [
    "## 1. Introduction"
   ]
  },
  {
   "cell_type": "markdown",
   "metadata": {},
   "source": [
    "London is the capital and largest city of England and the United Kingdom. London has a diverse range of people and cultures, and more than 300 languages are spoken in the region. Its estimated mid-2018 municipal population was 8,908,081, the third most populous of any city in Europe and accounts for 13.4% of the UK population. London's urban area is the third most populous in Europe, after Moscow and Paris.   \n",
    "\n",
    "Therefore, it is quite hard to look for a house that fit the users' personal need with reasonable price. \n",
    "So what aspects of a neighborhood that can effect the price of real estates to such extend? One hypothesis is that the surrounding venues can be a decision factor.  \n",
    "\n",
    "Surely anyone, who has attempted to find an accommodation for rent or buy, has seen advertisements such as: This condo is located near the subway station, malls, supermarkets, dinners, etc. And it's likely that the price will be higher than others with locations not as \"convenient\".\n",
    "Can the venues surrounding an accommodation effect its price? And what kind of venues can effect the most? And by what weight?"
   ]
  },
  {
   "cell_type": "markdown",
   "metadata": {},
   "source": [
    "This project will try to explore the neighborhoods of London city to see: \n",
    " * if the surrounding venues can effect the price of real estates?\n",
    " * what kind of surrounding venues, and to what extend, can effect the price?\n",
    " * if we can use the surrounding venue to estimate the value of an accommodation over the average price of one area? And to what degree of confidence?  \n",
    " \n",
    "The result can be useful for home buyers, who can roughly estimate the value of a target house over the average."
   ]
  },
  {
   "cell_type": "markdown",
   "metadata": {},
   "source": [
    "## 2. Data description"
   ]
  },
  {
   "cell_type": "markdown",
   "metadata": {},
   "source": [
    "### 2.1. Data collection process:\n",
    "__The address__ is in the format *\"Street, City, Postcode\"* and is an __unstructured field__ but for our purpose, we can leave as it is. Instead, the __PostCode__ present a *\"limited\"* format because we have the first two/three digits only. __This is not accurate enough to collect meaningful data about the venues around the flat__.  \n",
    "  \n",
    "In order __to solve this problem__, we are going to use <a href=\"https://opencagedata.com/\">OpenCage Geocoder API</a> to *look up coordinates from a postal address*. This is a case when an unstructured field becomes helpful.  \n",
    "  \n",
    "To __associate each rent offer to a District__, we are going to __join the data table with a second dataset__ presenting two columns:  \n",
    "  \n",
    " - District Name  \n",
    " - PostCode  \n",
    "  \n",
    "This dataset had been created __scraping a Wikipedia Table__ (available<a href=\"https://en.wikipedia.org/wiki/London_postal_district\"> here</a>) with the data we need for the exercise.  "
   ]
  },
  {
   "cell_type": "markdown",
   "metadata": {},
   "source": [
    "### 2.2. Using data to solve the question:  \n",
    "When the data are collected and merged into a single data frame, we are going to cluster them using the K-Means algorithm to divide the market into *20 different clusters*.\n",
    "To have an idea of the distribution on the territory of the offers, I plotted Cluster map: this map shows the distribution of the clusters using colours to identify each cluster.  \n"
   ]
  },
  {
   "cell_type": "code",
   "execution_count": null,
   "metadata": {},
   "outputs": [],
   "source": []
  }
 ],
 "metadata": {
  "kernelspec": {
   "display_name": "Python 3",
   "language": "python",
   "name": "python3"
  },
  "language_info": {
   "codemirror_mode": {
    "name": "ipython",
    "version": 3
   },
   "file_extension": ".py",
   "mimetype": "text/x-python",
   "name": "python",
   "nbconvert_exporter": "python",
   "pygments_lexer": "ipython3",
   "version": "3.7.4"
  }
 },
 "nbformat": 4,
 "nbformat_minor": 2
}
